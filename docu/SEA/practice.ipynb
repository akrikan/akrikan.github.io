{
  "cells": [
    {
      "cell_type": "raw",
      "metadata": {},
      "source": [
        "---\n",
        "title: \"Markdown basics for practice\"\n",
        "editor: visual\n",
        "---"
      ],
      "id": "46cdb621"
    },
    {
      "cell_type": "markdown",
      "metadata": {},
      "source": [
        "# Header being 1\n",
        "\n",
        "hello\n",
        "\n",
        ":   asdad sdbkb sdhfkjhkjsdf\n"
      ],
      "id": "53a81573"
    },
    {
      "cell_type": "code",
      "metadata": {},
      "source": [
        "1+1\n",
        " \n",
        "print(\"hello world\")"
      ],
      "id": "37488679",
      "execution_count": null,
      "outputs": []
    },
    {
      "cell_type": "markdown",
      "metadata": {},
      "source": [
        "hello"
      ],
      "id": "85e44113"
    }
  ],
  "metadata": {
    "kernelspec": {
      "display_name": "Python 3",
      "language": "python",
      "name": "python3"
    }
  },
  "nbformat": 4,
  "nbformat_minor": 5
}