{
  "cells": [
    {
      "cell_type": "raw",
      "metadata": {},
      "source": [
        "---\n",
        "title: Data Analysis for Python\n",
        "abstract: Implementation of the book on the same topic by Wes McKinney\n",
        "keep-ipynb: true\n",
        "toc: true\n",
        "execute:\n",
        "  freeze: true\n",
        "  evaluate: false\n",
        "---"
      ],
      "id": "ff9fdc10"
    },
    {
      "cell_type": "markdown",
      "metadata": {},
      "source": [
        "## Introduction\n",
        "\n",
        "List of important libraries and tools that are mainly used for data analysis in python\n",
        "* Numpy: Numerical Python has great array processing capabilities. Mostly used to pass data to algorithims from datasets/libraries. It gives the ability to perform linear algebra operations ,Fourier transforms with ease. \n",
        "\n",
        "* Pandas: Mostly used to manipulate and create new data structures. \n",
        "\n",
        "* Matplotlib: Used for plots and other two dimensional data visualizations \n",
        "\n",
        "* Jupyter: Commonly used for testing , running iterations, debugging before sending off the code to production. Jupyter notebook supports R , python and julia programming languages as well as markdown for documenting the files\n",
        "\n",
        "* SciPy: Scientific computing library. Provides functionality to integrate , optimise , signal processing,etc... \n",
        "\n",
        "* Scikit-learn: The library has machine learning models which can be used out of the box. Has all the standard machine learning models.\n",
        "\n",
        "All of the above tools and libraries are very well documented and navigating through them is relatively easy.\n"
      ],
      "id": "ea2659ee"
    },
    {
      "cell_type": "code",
      "metadata": {},
      "source": [
        "#Importing Libraries\n",
        "import numpy as np\n",
        "import pandas as pd\n",
        "import matplotlib.pyplot as plt\n",
        "import seaborn as sns\n",
        "import statsmodels as sm"
      ],
      "id": "766c7c44",
      "execution_count": null,
      "outputs": []
    },
    {
      "cell_type": "markdown",
      "metadata": {},
      "source": [
        "## Main Content\n",
        "\n",
        "### Ipython Shortcuts\n",
        "\n",
        "* %a: Commonly known as magic functions. Specific to Ipython kernel\n",
        "\n",
        "* %run a.py: runs the python file a.py located in the same working directory\n",
        "\n",
        "* %quickref: gives quick reference\n",
        "\n",
        "* help - help function for Ipython\n",
        "\n",
        "* a?: gives general information about the object a\n",
        "\n",
        "* %load a.py: Import a.py script into the code cell\n",
        "\n",
        "* %paste: Will paste contents in the keyboard and execute the as a single block\n",
        "\n",
        "* %timeit b:Gives the execution time of python statement b.Can be run muliple times giving the average time over all iterations as output.\n",
        "\n",
        "* %debug: Various positional arguments available to debug a python statement.\n",
        "\n",
        "* %pwd: Gives current path as output\n",
        "\n",
        "* %xdel variable : Deletes teh varaible and attempt to clear all references to the object in python\n",
        "\n",
        "### Python\n"
      ],
      "id": "172463f0"
    },
    {
      "cell_type": "code",
      "metadata": {},
      "source": [
        "#checks the current versiom of kernel being used\n",
        "import sys\n",
        "print(sys.executable)\n",
        "print(sys.version)\n",
        "print(sys.version_info)"
      ],
      "id": "30f066dd",
      "execution_count": null,
      "outputs": []
    },
    {
      "cell_type": "code",
      "metadata": {},
      "source": [
        "import numpy as np\n",
        "import matplotlib.pyplot as plt\n",
        "\n",
        "r = np.arange(0, 2, 0.01)\n",
        "theta = 2 * np.pi * r\n",
        "fig, ax = plt.subplots(subplot_kw={'projection': 'polar'})\n",
        "ax.plot(theta, r)\n",
        "ax.set_rticks([0.5, 1, 1.5, 2])\n",
        "ax.grid(True)\n",
        "plt.show()"
      ],
      "id": "d3909b71",
      "execution_count": null,
      "outputs": []
    },
    {
      "cell_type": "markdown",
      "metadata": {},
      "source": [
        "### Pandas\n",
        "\n",
        "\n",
        "### Numpy\n",
        "### Matplotlib\n",
        "### Seaborn"
      ],
      "id": "0293437e"
    }
  ],
  "metadata": {
    "kernelspec": {
      "name": "python3",
      "language": "python",
      "display_name": "Python 3 (ipykernel)"
    }
  },
  "nbformat": 4,
  "nbformat_minor": 5
}