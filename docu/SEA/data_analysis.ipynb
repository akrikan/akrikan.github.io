{
  "cells": [
    {
      "cell_type": "raw",
      "metadata": {},
      "source": [
        "---\n",
        "title: Data Analysis for Python\n",
        "abstract: Implementation of the book on the same topic by Wes McKinney\n",
        "keep-ipynb: true\n",
        "toc: true\n",
        "execute:\n",
        "  freeze: true\n",
        "  evaluate: false\n",
        "---"
      ],
      "id": "24a73e5f"
    },
    {
      "cell_type": "markdown",
      "metadata": {},
      "source": [
        "## Introduction\n",
        "\n",
        "List of important libraries and tools that are mainly used for data analysis in python\n",
        "* Numpy: Numerical Python has great array processing capabilities. Mostly used to pass data to algorithims from datasets/libraries. It gives the ability to perform linear algebra operations ,Fourier transforms with ease. \n",
        "\n",
        "* Pandas: Mostly used to manipulate and create new data structures. \n",
        "\n",
        "* Matplotlib: Used for plots and other two dimensional data visualizations \n",
        "\n",
        "* Jupyter: Commonly used for testing , running iterations, debugging before sending off the code to production. Jupyter notebook supports R , python and julia programming languages as well as markdown for documenting the files\n",
        "\n",
        "* SciPy: Scientific computing library. Provides functionality to integrate , optimise , signal processing,etc... \n",
        "\n",
        "* Scikit-learn: The library has machine learning models which can be used out of the box. Has all the standard machine learning models.\n",
        "\n",
        "All of the above tools and libraries are very well documented and navigating through them is relatively easy.\n"
      ],
      "id": "6ae4d858"
    },
    {
      "cell_type": "code",
      "metadata": {},
      "source": [
        "#Importing Libraries\n",
        "import numpy as np\n",
        "import pandas as pd\n",
        "import matplotlib.pyplot as plt\n",
        "import seaborn as sns\n",
        "import statsmodels as sm"
      ],
      "id": "cde95d71",
      "execution_count": null,
      "outputs": []
    },
    {
      "cell_type": "markdown",
      "metadata": {},
      "source": [
        "## Main Content\n",
        "\n",
        "### Ipython Shortcuts\n",
        "\n",
        "* %a: Commonly known as magic functions. Specific to Ipython kernel\n",
        "\n",
        "* %run a.py: runs the python file a.py located in the same working directory\n",
        "\n",
        "* %quickref: gives quick reference\n",
        "\n",
        "* help - help function for Ipython\n",
        "\n",
        "* a?: gives general information about the object a\n",
        "\n",
        "* %load a.py: Import a.py script into the code cell\n",
        "\n",
        "* %paste: Will paste contents in the keyboard and execute the as a single block\n",
        "\n",
        "* %timeit b:Gives the execution time of python statement b.Can be run muliple times giving the average time over all iterations as output.\n",
        "\n",
        "* %debug: Various positional arguments available to debug a python statement.\n",
        "\n",
        "* %pwd: Gives current path as output\n",
        "\n",
        "* %xdel variable : Deletes teh varaible and attempt to clear all references to the object in python\n",
        "\n",
        "### Python\n"
      ],
      "id": "960116eb"
    },
    {
      "cell_type": "code",
      "metadata": {},
      "source": [
        "#checks the current versiom of kernel being used\n",
        "import sys\n",
        "print(sys.executable)\n",
        "print(sys.version)\n",
        "print(sys.version_info)"
      ],
      "id": "96e759dd",
      "execution_count": null,
      "outputs": []
    },
    {
      "cell_type": "code",
      "metadata": {},
      "source": [
        "import numpy as np\n",
        "import matplotlib.pyplot as plt\n",
        "\n",
        "r = np.arange(0, 2, 0.01)\n",
        "theta = 2 * np.pi * r\n",
        "fig, ax = plt.subplots(subplot_kw={'projection': 'polar'})\n",
        "ax.plot(theta, r)\n",
        "ax.set_rticks([0.5, 1, 1.5, 2])\n",
        "ax.grid(True)\n",
        "plt.show()"
      ],
      "id": "756d3e90",
      "execution_count": null,
      "outputs": []
    },
    {
      "cell_type": "markdown",
      "metadata": {},
      "source": [
        "### Pandas\n",
        "### Numpy\n",
        "### Matplotlib\n",
        "### Seaborn"
      ],
      "id": "22cc8373"
    }
  ],
  "metadata": {
    "kernelspec": {
      "name": "python3",
      "language": "python",
      "display_name": "Python 3 (ipykernel)"
    }
  },
  "nbformat": 4,
  "nbformat_minor": 5
}