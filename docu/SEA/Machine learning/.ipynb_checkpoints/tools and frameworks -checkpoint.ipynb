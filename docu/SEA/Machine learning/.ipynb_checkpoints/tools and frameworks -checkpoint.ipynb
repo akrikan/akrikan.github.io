{
  "cells": [
    {
      "cell_type": "raw",
      "metadata": {},
      "source": [
        "---\n",
        "title: \"Tools and frameworks\"\n",
        "execute: \n",
        "  warning: false\n",
        "  freeze: true\n",
        "\n",
        "format:\n",
        "  html:\n",
        "    html-math-method: katex\n",
        "    code-block-bg: \"#E5E7E9\"\n",
        "    df-print: paged\n",
        "    code-overflow : wrap\n",
        "    code-copy : true\n",
        "---"
      ],
      "id": "d1f23dfc"
    },
    {
      "cell_type": "markdown",
      "metadata": {},
      "source": [
        "## Tensorflow"
      ],
      "id": "6680d3d4"
    },
    {
      "cell_type": "code",
      "metadata": {},
      "source": [
        "import tensorflow as tf"
      ],
      "id": "252095f5",
      "execution_count": null,
      "outputs": []
    }
  ],
  "metadata": {
    "kernelspec": {
      "name": "python3",
      "language": "python",
      "display_name": "Python 3 (ipykernel)"
    }
  },
  "nbformat": 4,
  "nbformat_minor": 5
}