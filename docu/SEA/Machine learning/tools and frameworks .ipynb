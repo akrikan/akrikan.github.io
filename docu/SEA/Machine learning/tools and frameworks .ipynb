{
 "cells": [
  {
   "cell_type": "raw",
   "id": "d1f23dfc",
   "metadata": {},
   "source": [
    "---\n",
    "title: \"Tools and frameworks\"\n",
    "execute: \n",
    "  warning: false\n",
    "  freeze: true\n",
    "\n",
    "format:\n",
    "  html:\n",
    "    html-math-method: katex\n",
    "    code-block-bg: \"#E5E7E9\"\n",
    "    df-print: paged\n",
    "    code-overflow : wrap\n",
    "    code-copy : true\n",
    "---"
   ]
  },
  {
   "cell_type": "markdown",
   "id": "6680d3d4",
   "metadata": {},
   "source": [
    "## Tensorflow"
   ]
  },
  {
   "cell_type": "code",
   "execution_count": null,
   "id": "252095f5",
   "metadata": {},
   "outputs": [],
   "source": [
    "import tensorflow as tf"
   ]
  }
 ],
 "metadata": {
  "kernelspec": {
   "display_name": "Python 3 (ipykernel)",
   "language": "python",
   "name": "python3"
  },
  "language_info": {
   "codemirror_mode": {
    "name": "ipython",
    "version": 3
   },
   "file_extension": ".py",
   "mimetype": "text/x-python",
   "name": "python",
   "nbconvert_exporter": "python",
   "pygments_lexer": "ipython3",
   "version": "3.10.9"
  }
 },
 "nbformat": 4,
 "nbformat_minor": 5
}
