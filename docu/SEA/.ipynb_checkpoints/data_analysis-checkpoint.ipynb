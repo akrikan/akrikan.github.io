{
 "cells": [
  {
   "cell_type": "raw",
   "id": "60bad79a",
   "metadata": {},
   "source": [
    "---\n",
    "title: Data Analysis for Python\n",
    "abstract: Implementation of the book on the same topic by Wes McKinney\n",
    "keep-ipynb: true\n",
    "toc: true\n",
    "execute:\n",
    "  freeze: true\n",
    "  evaluate: false\n",
    "---"
   ]
  },
  {
   "cell_type": "markdown",
   "id": "956447ef",
   "metadata": {},
   "source": [
    "## Introduction\n",
    "\n",
    "List of important libraries and tools that are mainly used for data analysis in python\n",
    "* Numpy: Numerical Python has great array processing capabilities. Mostly used to pass data to algorithims from datasets/libraries. It gives the ability to perform linear algebra operations ,Fourier transforms with ease. \n",
    "\n",
    "* Pandas: Mostly used to manipulate and create new data structures. \n",
    "\n",
    "* Matplotlib: Used for plots and other two dimensional data visualizations \n",
    "\n",
    "* Jupyter: Commonly used for testing , running iterations, debugging before sending off the code to production. Jupyter notebook supports R , python and julia programming languages as well as markdown for documenting the files\n",
    "\n",
    "* SciPy: Scientific computing library. Provides functionality to integrate , optimise , signal processing,etc... \n",
    "\n",
    "* Scikit-learn: The library has machine learning models which can be used out of the box. Has all the standard machine learning models.\n",
    "\n",
    "All of the above tools and libraries are very well documented and navigating through them is relatively easy.\n"
   ]
  },
  {
   "cell_type": "code",
   "execution_count": null,
   "id": "cc3a8ee9",
   "metadata": {},
   "outputs": [],
   "source": [
    "#Importing Libraries\n",
    "import numpy as np\n",
    "import pandas as pd\n",
    "import matplotlib.pyplot as plt\n",
    "import seaborn as sns\n",
    "import statsmodels as sm"
   ]
  },
  {
   "cell_type": "markdown",
   "id": "ad50f967",
   "metadata": {},
   "source": [
    "## Python\n",
    "\n",
    "### Ipython Shortcuts\n",
    "\n",
    "* %a: Commonly known as magic functions. Specific to Ipython kernel\n",
    "\n",
    "* %run a.py: runs the python file a.py located in the same working directory\n",
    "\n",
    "* %quickref: gives quick reference\n",
    "\n",
    "* help - help function for Ipython\n",
    "\n",
    "* a?: gives general information about the object a\n",
    "\n",
    "* %load a.py: Import a.py script into the code cell\n",
    "\n",
    "* %paste: Will paste contents in the keyboard and execute the as a single block\n",
    "\n",
    "* %timeit b:Gives the execution time of python statement b.Can be run muliple times giving the average time over all iterations as output.\n",
    "\n",
    "* %debug: Various positional arguments available to debug a python statement.\n",
    "\n",
    "* %pwd: Gives current path as output\n",
    "\n",
    "* %xdel variable : Deletes teh varaible and attempt to clear all references to the object in python\n",
    "\n",
    "### Python\n"
   ]
  },
  {
   "cell_type": "code",
   "execution_count": 1,
   "id": "5e6a9a79",
   "metadata": {
    "tags": []
   },
   "outputs": [
    {
     "name": "stdout",
     "output_type": "stream",
     "text": [
      "/Users/krishnakantammanamanachi/opt/anaconda3/envs/tf/bin/python\n",
      "3.10.9 | packaged by conda-forge | (main, Feb  2 2023, 20:24:27) [Clang 14.0.6 ]\n",
      "sys.version_info(major=3, minor=10, micro=9, releaselevel='final', serial=0)\n"
     ]
    }
   ],
   "source": [
    "#checks the current versiom of kernel being used\n",
    "import sys\n",
    "print(sys.executable)\n",
    "print(sys.version)\n",
    "print(sys.version_info)"
   ]
  },
  {
   "cell_type": "code",
   "execution_count": 3,
   "id": "a42bbef3",
   "metadata": {},
   "outputs": [
    {
     "name": "stdout",
     "output_type": "stream",
     "text": [
      "Hello World\n"
     ]
    }
   ],
   "source": [
    "print(\"Hello World\")"
   ]
  },
  {
   "cell_type": "code",
   "execution_count": null,
   "id": "41842da1-38cb-4aa6-9d61-f09c2e61e59a",
   "metadata": {},
   "outputs": [],
   "source": []
  }
 ],
 "metadata": {
  "kernelspec": {
   "display_name": "Python 3 (ipykernel)",
   "language": "python",
   "name": "python3"
  },
  "language_info": {
   "codemirror_mode": {
    "name": "ipython",
    "version": 3
   },
   "file_extension": ".py",
   "mimetype": "text/x-python",
   "name": "python",
   "nbconvert_exporter": "python",
   "pygments_lexer": "ipython3",
   "version": "3.10.9"
  }
 },
 "nbformat": 4,
 "nbformat_minor": 5
}
