{
 "cells": [
  {
   "cell_type": "raw",
   "id": "56466ce6",
   "metadata": {},
   "source": [
    "---\n",
    "title: Data Analysis for Python\n",
    "abstract: \"Implementation of the book on the same topic by Wes McKinney\"\n",
    "keep-ipynb: true\n",
    "toc: true\n",
    "execute: \n",
    "    freeze: true\n",
    "    evaluate: false\n",
    " \n",
    "---"
   ]
  },
  {
   "cell_type": "markdown",
   "id": "2d2aa57f",
   "metadata": {},
   "source": [
    "## Introduction\n",
    "\n",
    "List of important libraries and tools that are mainly used for data analysis in python\n",
    "* Numpy: Numerical Python has great array processing capabilities. Mostly used to pass data to algorithims from datasets/libraries. It gives the ability to perform linear algebra operations ,Fourier transforms with ease. \n",
    "\n",
    "* Pandas: Mostly used to manipulate and create new data structures. \n",
    "\n",
    "* Matplotlib: Used for plots and other two dimensional data visualizations \n",
    "\n",
    "* Jupyter: Commonly used for testing , running iterations, debugging before sending off the code to production. Jupyter notebook supports R , python and julia programming languages as well as markdown for documenting the files\n",
    "\n",
    "* SciPy: Scientific computing library. Provides functionality to integrate , optimise , signal processing,etc... \n",
    "\n",
    "* Scikit-learn: The library has machine learning models which can be used out of the box. Has all the standard machine learning models.\n",
    "\n",
    "All of the above tools and libraries are very well documented and navigating through them is relatively easy.\n"
   ]
  },
  {
   "cell_type": "code",
   "execution_count": null,
   "id": "0dede971",
   "metadata": {},
   "outputs": [],
   "source": [
    "#Importing Libraries\n",
    "import numpy as np\n",
    "import pandas as pd\n",
    "import matplotlib.pyplot as plt\n",
    "import seaborn as sns\n",
    "import statsmodels as sm"
   ]
  },
  {
   "cell_type": "markdown",
   "id": "127605a2",
   "metadata": {},
   "source": [
    "## Python\n",
    "\n",
    "### Ipython Shortcuts\n",
    "\n",
    "* %a: Commonly known as magic functions. Specific to Ipython kernel\n",
    "\n",
    "* %run a.py: runs the python file a.py located in the same working directory\n",
    "\n",
    "* %quickref: gives quick reference\n",
    "\n",
    "* help - help function for Ipython\n",
    "\n",
    "* a?: gives general information about the object a\n",
    "\n",
    "* %load a.py: Import a.py script into the code cell\n",
    "\n",
    "* %paste: Will paste contents in the keyboard and execute the as a single block\n",
    "\n",
    "* %timeit b:Gives the execution time of python statement b.Can be run muliple times giving the average time over all iterations as output.\n",
    "\n",
    "* %debug: Various positional arguments available to debug a python statement.\n",
    "\n",
    "* %pwd: Gives current path as output\n",
    "\n",
    "* %xdel variable : Deletes teh varaible and attempt to clear all references to the object in python\n",
    "\n",
    "### Python\n"
   ]
  },
  {
   "cell_type": "code",
   "execution_count": null,
   "id": "68e89099",
   "metadata": {},
   "outputs": [],
   "source": [
    "#checks the current versiom of kernel being used\n",
    "import sys\n",
    "print(sys.executable)\n",
    "print(sys.version)\n",
    "print(sys.version_info)"
   ]
  },
  {
   "cell_type": "code",
   "execution_count": null,
   "id": "5c48691f",
   "metadata": {},
   "outputs": [],
   "source": [
    "import numpy as np\n",
    "import matplotlib.pyplot as plt\n",
    "\n",
    "r = np.arange(0, 2, 0.01)\n",
    "theta = 2 * np.pi * r\n",
    "fig, ax = plt.subplots(subplot_kw={'projection': 'polar'})\n",
    "ax.plot(theta, r)\n",
    "ax.set_rticks([0.5, 1, 1.5, 2])\n",
    "ax.grid(True)\n",
    "plt.show()"
   ]
  }
 ],
 "metadata": {
  "kernelspec": {
   "display_name": "Python 3 (ipykernel)",
   "language": "python",
   "name": "python3"
  },
  "language_info": {
   "codemirror_mode": {
    "name": "ipython",
    "version": 3
   },
   "file_extension": ".py",
   "mimetype": "text/x-python",
   "name": "python",
   "nbconvert_exporter": "python",
   "pygments_lexer": "ipython3",
   "version": "3.10.8"
  }
 },
 "nbformat": 4,
 "nbformat_minor": 5
}
