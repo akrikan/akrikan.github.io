{
 "cells": [
  {
   "cell_type": "markdown",
   "id": "72e6e368",
   "metadata": {},
   "source": [
    "---\n",
    "title: Data Analysis for Python\n",
    "abstract: \"Implementation of the book on the same topic by Wes McKinney\"\n",
    "keep-ipynb: true\n",
    "toc: true\n",
    "\n",
    "---"
   ]
  },
  {
   "cell_type": "markdown",
   "id": "cc5a4b3d",
   "metadata": {},
   "source": [
    "## Introduction\n",
    "\n",
    "List of important libraries and tools that are mainly used for data analysis in python\n",
    "* Numpy: Numerical Python has great array processing capabilities. Mostly used to pass data to algorithims from datasets/libraries. It gives the ability to perform linear algebra operations ,Fourier transforms with ease. \n",
    "\n",
    "* Pandas: Mostly used to manipulate and create new data structures. \n",
    "\n",
    "* Matplotlib: Used for plots and other two dimensional data visualizations \n",
    "\n",
    "* Jupyter: Commonly used for testing , running iterations, debugging before sending off the code to production. Jupyter notebook supports R , python and julia programming languages as well as markdown for documenting the files\n",
    "\n",
    "* SciPy: Scientific computing library. Provides functionality to integrate , optimise , signal processing,etc... \n",
    "\n",
    "* Scikit-learn: The library has machine learning models which can be used out of the box. Has all the standard machine learning models.\n",
    "\n",
    "All of the above tools and libraries are very well documented and navigating through them is relatively easy.\n",
    "\n"
   ]
  },
  {
   "cell_type": "code",
   "execution_count": 1,
   "id": "388694c7-bfec-4fec-90f0-32e591f0a97b",
   "metadata": {},
   "outputs": [
    {
     "ename": "ModuleNotFoundError",
     "evalue": "No module named 'seaborn'",
     "output_type": "error",
     "traceback": [
      "\u001b[0;31m---------------------------------------------------------------------------\u001b[0m",
      "\u001b[0;31mModuleNotFoundError\u001b[0m                       Traceback (most recent call last)",
      "Cell \u001b[0;32mIn [1], line 5\u001b[0m\n\u001b[1;32m      3\u001b[0m \u001b[38;5;28;01mimport\u001b[39;00m \u001b[38;5;21;01mpandas\u001b[39;00m \u001b[38;5;28;01mas\u001b[39;00m \u001b[38;5;21;01mpd\u001b[39;00m\n\u001b[1;32m      4\u001b[0m \u001b[38;5;28;01mimport\u001b[39;00m \u001b[38;5;21;01mmatplotlib\u001b[39;00m\u001b[38;5;21;01m.\u001b[39;00m\u001b[38;5;21;01mpyplot\u001b[39;00m \u001b[38;5;28;01mas\u001b[39;00m \u001b[38;5;21;01mplt\u001b[39;00m\n\u001b[0;32m----> 5\u001b[0m \u001b[38;5;28;01mimport\u001b[39;00m \u001b[38;5;21;01mseaborn\u001b[39;00m \u001b[38;5;28;01mas\u001b[39;00m \u001b[38;5;21;01msb\u001b[39;00m\n\u001b[1;32m      6\u001b[0m \u001b[38;5;28;01mimport\u001b[39;00m \u001b[38;5;21;01mstatsmodel\u001b[39;00m \u001b[38;5;28;01mas\u001b[39;00m \u001b[38;5;21;01msm\u001b[39;00m\n",
      "\u001b[0;31mModuleNotFoundError\u001b[0m: No module named 'seaborn'"
     ]
    }
   ],
   "source": [
    "#Importing Libraries\n",
    "import numpy as np\n",
    "import pandas as pd\n",
    "import matplotlib.pyplot as plt\n",
    "import seaborn as sb\n",
    "import statsmodel as sm\n",
    "\n"
   ]
  },
  {
   "cell_type": "markdown",
   "id": "65b09ee0-f729-4441-ab1d-43999a4486c5",
   "metadata": {},
   "source": [
    "## Python"
   ]
  },
  {
   "cell_type": "markdown",
   "id": "93140438-cc28-4875-a83d-28391424c5a9",
   "metadata": {},
   "source": [
    "### Ipython Shortcuts\n",
    "\n",
    "* %a: Commonly known as magic functions. Specific to Ipython kernel\n",
    "\n",
    "* %run a.py: runs the python file a.py located in the same working directory\n",
    "\n",
    "* %quickref: gives quick reference\n",
    "\n",
    "* help - help function for Ipython\n",
    "\n",
    "* a?: gives general information about the object a\n",
    "\n",
    "* %load a.py: Import a.py script into the code cell\n",
    "\n",
    "* %paste: Will paste contents in the keyboard and execute the as a single block\n",
    "\n",
    "* %timeit b:Gives the execution time of python statement b.Can be run muliple times giving the average time over all iterations as output.\n",
    "\n",
    "* %debug: Various positional arguments available to debug a python statement.\n",
    "\n",
    "* %pwd: Gives current path as output\n",
    "\n",
    "* %xdel variable : Deletes teh varaible and attempt to clear all references to the object in python\n"
   ]
  },
  {
   "cell_type": "markdown",
   "id": "6be8f399-aa49-465d-96c3-586146123352",
   "metadata": {},
   "source": [
    "### Python\n"
   ]
  },
  {
   "cell_type": "code",
   "execution_count": null,
   "id": "3364424c-a8fd-4b83-889f-d20b661e3722",
   "metadata": {},
   "outputs": [],
   "source": []
  }
 ],
 "metadata": {
  "kernelspec": {
   "display_name": "Python 3 (ipykernel)",
   "language": "python",
   "name": "python3"
  },
  "language_info": {
   "codemirror_mode": {
    "name": "ipython",
    "version": 3
   },
   "file_extension": ".py",
   "mimetype": "text/x-python",
   "name": "python",
   "nbconvert_exporter": "python",
   "pygments_lexer": "ipython3",
   "version": "3.9.15"
  }
 },
 "nbformat": 4,
 "nbformat_minor": 5
}
