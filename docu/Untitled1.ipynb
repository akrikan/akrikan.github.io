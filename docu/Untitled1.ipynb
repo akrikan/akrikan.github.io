{
 "cells": [
  {
   "cell_type": "code",
   "execution_count": 11,
   "id": "0d60f4e6",
   "metadata": {},
   "outputs": [
    {
     "name": "stderr",
     "output_type": "stream",
     "text": [
      "In file included from input_line_5:1:\n",
      "In file included from /Users/krishnakantammanamanachi/opt/anaconda3/envs/cling/include/xeus/xinterpreter.hpp:17:\n",
      "In file included from /Users/krishnakantammanamanachi/opt/anaconda3/envs/cling/include/xeus/xcomm.hpp:19:\n",
      "In file included from /Users/krishnakantammanamanachi/opt/anaconda3/envs/cling/include/nlohmann/json.hpp:55:\n",
      "In file included from /Users/krishnakantammanamanachi/opt/anaconda3/envs/cling/include/nlohmann/detail/input/binary_reader.hpp:16:\n",
      "In file included from /Users/krishnakantammanamanachi/opt/anaconda3/envs/cling/include/nlohmann/detail/input/input_adapters.hpp:7:\n",
      "In file included from /Library/Developer/CommandLineTools/SDKs/MacOSX.sdk/usr/include/c++/v1/istream:163:\n",
      "\u001b[1m/Library/Developer/CommandLineTools/SDKs/MacOSX.sdk/usr/include/c++/v1/ostream:725:39: \u001b[0m\u001b[0;1;31merror: \u001b[0m\u001b[1mno member named 'fill' in 'std::__1::basic_ostream<char>'\u001b[0m\n",
      "                                 __os.fill()).failed())\n",
      "\u001b[0;1;32m                                 ~~~~ ^\n",
      "\u001b[0m\u001b[1m/Library/Developer/CommandLineTools/SDKs/MacOSX.sdk/usr/include/c++/v1/ostream:857:19: \u001b[0m\u001b[0;1;30mnote: \u001b[0min instantiation of function template specialization 'std::__1::__put_character_sequence<char, std::__1::char_traits<char> >' requested here\u001b[0m\n",
      "    return _VSTD::__put_character_sequence(__os, __str, _Traits::length(__str));\n",
      "\u001b[0;1;32m                  ^\n",
      "\u001b[0m\u001b[1minput_line_27:2:12: \u001b[0m\u001b[0;1;30mnote: \u001b[0min instantiation of function template specialization 'std::__1::operator<<<std::__1::char_traits<char> >' requested here\u001b[0m\n",
      " std::cout << \"main\" ;\n",
      "\u001b[0;1;32m           ^\n",
      "\u001b[0m"
     ]
    },
    {
     "ename": "Interpreter Error",
     "evalue": "",
     "output_type": "error",
     "traceback": [
      "Interpreter Error: "
     ]
    }
   ],
   "source": [
    "#include <iostream>\n",
    "\n",
    "std::cout << \"main\" ;"
   ]
  },
  {
   "cell_type": "code",
   "execution_count": null,
   "id": "f5aff615",
   "metadata": {},
   "outputs": [],
   "source": []
  }
 ],
 "metadata": {
  "kernelspec": {
   "display_name": "C++14",
   "language": "C++14",
   "name": "xcpp14"
  },
  "language_info": {
   "codemirror_mode": "text/x-c++src",
   "file_extension": ".cpp",
   "mimetype": "text/x-c++src",
   "name": "c++",
   "version": "14"
  }
 },
 "nbformat": 4,
 "nbformat_minor": 5
}
