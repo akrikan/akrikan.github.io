{
 "cells": [
  {
   "cell_type": "markdown",
   "id": "bca95f25-1b89-4596-95b1-948baff39bb2",
   "metadata": {},
   "source": [
    "## Implementation of Deep learning in Python text by Francois Chollet\n"
   ]
  },
  {
   "cell_type": "code",
   "execution_count": 1,
   "id": "c7713bd1-9c1d-4e00-a5c5-195015f633af",
   "metadata": {},
   "outputs": [
    {
     "name": "stdout",
     "output_type": "stream",
     "text": [
      "/Users/krishnakantammanamanachi/opt/anaconda3/envs/tf/bin/python\n",
      "3.10.9 | packaged by conda-forge | (main, Feb  2 2023, 20:24:27) [Clang 14.0.6 ]\n",
      "sys.version_info(major=3, minor=10, micro=9, releaselevel='final', serial=0)\n"
     ]
    }
   ],
   "source": [
    "import sys\n",
    "print(sys.executable)\n",
    "print(sys.version)\n",
    "print(sys.version_info)"
   ]
  },
  {
   "cell_type": "code",
   "execution_count": 4,
   "id": "ba4e0e86-8772-494d-b5b2-69a3d5d385dc",
   "metadata": {},
   "outputs": [],
   "source": [
    "from keras.datasets import mnist\n",
    "[(train_images,train_labels),(test_images,test_labels)] = mnist.load_data()"
   ]
  },
  {
   "cell_type": "code",
   "execution_count": 10,
   "id": "1e6665b4-3cf1-4579-ab4a-aabf726e269a",
   "metadata": {},
   "outputs": [
    {
     "name": "stdout",
     "output_type": "stream",
     "text": [
      "Shape of train images (60000, 28, 28)\n",
      "Shape of test images (10000, 28, 28)\n",
      "Train labels format [5 0 4 ... 5 6 8]\n"
     ]
    }
   ],
   "source": [
    "print( \"Shape of train images\",train_images.shape )\n",
    "print( \"Shape of test images\",test_images.shape )\n",
    "print( \"Train labels format\",train_labels )"
   ]
  },
  {
   "cell_type": "markdown",
   "id": "1c4d0acb-cbe8-4bdc-817d-54ddb0725745",
   "metadata": {},
   "source": [
    "### The network architecture"
   ]
  },
  {
   "cell_type": "code",
   "execution_count": 16,
   "id": "ba2d73b0-6c28-4c60-9820-592a73f3dc0b",
   "metadata": {},
   "outputs": [],
   "source": [
    "from keras import models , layers\n",
    "# Creating a two layer dense(all hidden nodes are connected all input nodes - fully connected) neural network.\n",
    "# activation function for each layer is specified\n",
    "# \n",
    "network = models.Sequential()\n",
    "network.add(layers.Dense(512,activation = 'relu',input_shape = (28*28,))) # Creating a neural network layer with 512 hidden nodes and 'relu' as activation function\n",
    "network.add(layers.Dense(10,activation = 'softmax')) # creating another layer in succession to the previous layer with 10 nodes as output "
   ]
  },
  {
   "cell_type": "code",
   "execution_count": 20,
   "id": "a071f2ea-ab78-4371-a7ec-752e72f7546f",
   "metadata": {},
   "outputs": [],
   "source": [
    "## The Compiler Step\n",
    "\n",
    "network.compile(optimizer = 'rmsprop',\n",
    "                 loss = 'categorical_crossentropy',\n",
    "                  metrics = ['accuracy'])"
   ]
  },
  {
   "cell_type": "code",
   "execution_count": 32,
   "id": "520a9f37-9d64-4cf0-82fa-62a32ad4d232",
   "metadata": {},
   "outputs": [
    {
     "data": {
      "text/plain": [
       "(60000, 784)"
      ]
     },
     "execution_count": 32,
     "metadata": {},
     "output_type": "execute_result"
    }
   ],
   "source": [
    "## Preparing the image data\n",
    "\n",
    "train_images = train_images.reshape((60000,28*28)) # a neural network can only take a 1-d vector as an input \n",
    "train_images = train_images.astype('float32')/255 # Changing the type of the input data and scaling it such that the value lies between [0,1]\n",
    "\n",
    "test_images = test_images.reshape((10000,28*28))\n",
    "test_images = test_images.astype('float32')/255\n",
    "\n",
    "train_images.shape"
   ]
  },
  {
   "cell_type": "code",
   "execution_count": 24,
   "id": "d1737135-4c66-4938-960b-0cbd12559bf7",
   "metadata": {},
   "outputs": [],
   "source": [
    "## preparing the labels \n",
    "# since our labels are categorical in nature while a neural netowrk can only understand vector representations we convert our prediction labels into\n",
    "# required format\n",
    "\n",
    "from keras.utils import to_categorical\n",
    "\n",
    "train_labels = to_categorical(train_labels)\n",
    "test_labels  = to_categorical(test_labels)"
   ]
  },
  {
   "cell_type": "code",
   "execution_count": 42,
   "id": "0d075f87-20b7-4d17-b5ba-635d77f1e375",
   "metadata": {},
   "outputs": [
    {
     "name": "stdout",
     "output_type": "stream",
     "text": [
      "Python Platform: macOS-13.1-x86_64-i386-64bit\n",
      "Tensor Flow Version: 2.11.0\n",
      "Keras Version: 2.11.0\n",
      "\n",
      "Python 3.10.9 | packaged by conda-forge | (main, Feb  2 2023, 20:24:27) [Clang 14.0.6 ]\n",
      "Pandas 1.5.3\n",
      "SciPy 1.10.0\n",
      "GPU is NOT AVAILABLE\n"
     ]
    }
   ],
   "source": [
    "import sys\n",
    "import tensorflow.keras\n",
    "import pandas as pd\n",
    "#import sklearn as sk\n",
    "import scipy as sp\n",
    "import tensorflow as tf\n",
    "import platform\n",
    "print(f\"Python Platform: {platform.platform()}\")\n",
    "print(f\"Tensor Flow Version: {tf.__version__}\")\n",
    "print(f\"Keras Version: {tensorflow.keras.__version__}\")\n",
    "print()\n",
    "print(f\"Python {sys.version}\")\n",
    "print(f\"Pandas {pd.__version__}\")\n",
    "#print(f\"Scikit-Learn {sk.__version__}\")\n",
    "print(f\"SciPy {sp.__version__}\")\n",
    "gpu = len(tf.config.list_physical_devices('GPU'))>0\n",
    "print(\"GPU is\", \"available\" if gpu else \"NOT AVAILABLE\")"
   ]
  },
  {
   "cell_type": "code",
   "execution_count": null,
   "id": "5a68b65f-5e68-437a-89a7-eb70c4d104d1",
   "metadata": {},
   "outputs": [
    {
     "name": "stdout",
     "output_type": "stream",
     "text": [
      "Epoch 1/100\n",
      "1875/1875 [==============================] - 5s 3ms/step - loss: 2.3013 - accuracy: 0.1124\n",
      "Epoch 2/100\n",
      "1875/1875 [==============================] - 5s 3ms/step - loss: 2.3013 - accuracy: 0.1124\n",
      "Epoch 3/100\n",
      "1875/1875 [==============================] - 5s 3ms/step - loss: 2.3013 - accuracy: 0.1124\n",
      "Epoch 4/100\n",
      "1875/1875 [==============================] - 5s 3ms/step - loss: 2.3014 - accuracy: 0.1124\n",
      "Epoch 5/100\n",
      "1875/1875 [==============================] - 5s 3ms/step - loss: 2.3013 - accuracy: 0.1124\n",
      "Epoch 6/100\n",
      "1875/1875 [==============================] - 5s 3ms/step - loss: 2.3013 - accuracy: 0.1124\n",
      "Epoch 7/100\n",
      "1875/1875 [==============================] - 5s 3ms/step - loss: 2.3013 - accuracy: 0.1124\n",
      "Epoch 8/100\n",
      "1875/1875 [==============================] - 5s 3ms/step - loss: 2.3013 - accuracy: 0.1124\n",
      "Epoch 9/100\n",
      "1875/1875 [==============================] - 5s 3ms/step - loss: 2.3013 - accuracy: 0.1124\n",
      "Epoch 10/100\n",
      "1875/1875 [==============================] - 5s 3ms/step - loss: 2.3013 - accuracy: 0.1124\n",
      "Epoch 11/100\n",
      "1875/1875 [==============================] - 5s 3ms/step - loss: 2.3013 - accuracy: 0.1124\n",
      "Epoch 12/100\n",
      "1875/1875 [==============================] - 5s 3ms/step - loss: 2.3013 - accuracy: 0.1124\n",
      "Epoch 13/100\n",
      "1875/1875 [==============================] - 5s 3ms/step - loss: 2.3014 - accuracy: 0.1124\n",
      "Epoch 14/100\n",
      "1875/1875 [==============================] - 5s 3ms/step - loss: 2.3014 - accuracy: 0.1124\n",
      "Epoch 15/100\n",
      "1875/1875 [==============================] - 5s 3ms/step - loss: 2.3013 - accuracy: 0.1124\n",
      "Epoch 16/100\n",
      "1875/1875 [==============================] - 5s 3ms/step - loss: 2.3014 - accuracy: 0.1124\n",
      "Epoch 17/100\n",
      "1875/1875 [==============================] - 5s 3ms/step - loss: 2.3013 - accuracy: 0.1124\n",
      "Epoch 18/100\n",
      "1875/1875 [==============================] - 5s 3ms/step - loss: 2.3013 - accuracy: 0.1124\n",
      "Epoch 19/100\n",
      "1875/1875 [==============================] - 5s 3ms/step - loss: 2.3013 - accuracy: 0.1124\n",
      "Epoch 20/100\n",
      "1875/1875 [==============================] - 5s 3ms/step - loss: 2.3013 - accuracy: 0.1124\n",
      "Epoch 21/100\n",
      "1875/1875 [==============================] - 5s 3ms/step - loss: 2.3013 - accuracy: 0.1124\n",
      "Epoch 22/100\n",
      "1875/1875 [==============================] - 5s 3ms/step - loss: 2.3013 - accuracy: 0.1124\n",
      "Epoch 23/100\n",
      "1875/1875 [==============================] - 5s 3ms/step - loss: 2.3013 - accuracy: 0.1124\n",
      "Epoch 24/100\n",
      "1875/1875 [==============================] - 5s 3ms/step - loss: 2.3014 - accuracy: 0.1124\n",
      "Epoch 25/100\n",
      "1875/1875 [==============================] - 5s 3ms/step - loss: 2.3014 - accuracy: 0.1124\n",
      "Epoch 26/100\n",
      "1875/1875 [==============================] - 5s 3ms/step - loss: 2.3014 - accuracy: 0.1124\n",
      "Epoch 27/100\n",
      "1875/1875 [==============================] - 5s 3ms/step - loss: 2.3013 - accuracy: 0.1124\n",
      "Epoch 28/100\n",
      "1875/1875 [==============================] - 5s 3ms/step - loss: 2.3013 - accuracy: 0.1124\n",
      "Epoch 29/100\n",
      "1875/1875 [==============================] - 7s 4ms/step - loss: 2.3013 - accuracy: 0.1124\n",
      "Epoch 30/100\n",
      "1875/1875 [==============================] - 5s 3ms/step - loss: 2.3013 - accuracy: 0.1124\n",
      "Epoch 31/100\n",
      "1875/1875 [==============================] - 5s 3ms/step - loss: 2.3014 - accuracy: 0.1124\n",
      "Epoch 32/100\n",
      "1875/1875 [==============================] - 5s 3ms/step - loss: 2.3013 - accuracy: 0.1124\n",
      "Epoch 33/100\n",
      "1875/1875 [==============================] - 5s 3ms/step - loss: 2.3013 - accuracy: 0.1124\n",
      "Epoch 34/100\n",
      "1875/1875 [==============================] - 5s 3ms/step - loss: 2.3013 - accuracy: 0.1124\n",
      "Epoch 35/100\n",
      "1875/1875 [==============================] - 5s 3ms/step - loss: 2.3013 - accuracy: 0.1124\n",
      "Epoch 36/100\n",
      "1875/1875 [==============================] - 5s 3ms/step - loss: 2.3014 - accuracy: 0.1124\n",
      "Epoch 37/100\n",
      "1875/1875 [==============================] - 5s 3ms/step - loss: 2.3014 - accuracy: 0.1124\n",
      "Epoch 38/100\n",
      "1875/1875 [==============================] - 5s 3ms/step - loss: 2.3014 - accuracy: 0.1124\n",
      "Epoch 39/100\n",
      "1875/1875 [==============================] - 5s 2ms/step - loss: 2.3013 - accuracy: 0.1124\n",
      "Epoch 40/100\n",
      "1875/1875 [==============================] - 5s 3ms/step - loss: 2.3014 - accuracy: 0.1124\n",
      "Epoch 41/100\n",
      "1875/1875 [==============================] - 5s 3ms/step - loss: 2.3013 - accuracy: 0.1124\n",
      "Epoch 42/100\n",
      "1875/1875 [==============================] - 5s 3ms/step - loss: 2.3014 - accuracy: 0.1124\n",
      "Epoch 43/100\n",
      "1875/1875 [==============================] - 5s 3ms/step - loss: 2.3013 - accuracy: 0.1124\n",
      "Epoch 44/100\n",
      "1875/1875 [==============================] - 5s 3ms/step - loss: 2.3013 - accuracy: 0.1124\n",
      "Epoch 45/100\n",
      "1875/1875 [==============================] - 5s 3ms/step - loss: 2.3013 - accuracy: 0.1124\n",
      "Epoch 46/100\n",
      "1875/1875 [==============================] - 5s 3ms/step - loss: 2.3014 - accuracy: 0.1124\n",
      "Epoch 47/100\n",
      "1875/1875 [==============================] - 5s 3ms/step - loss: 2.3014 - accuracy: 0.1124\n",
      "Epoch 48/100\n",
      "1875/1875 [==============================] - 5s 3ms/step - loss: 2.3013 - accuracy: 0.1124\n",
      "Epoch 49/100\n",
      "1875/1875 [==============================] - 5s 3ms/step - loss: 2.3013 - accuracy: 0.1124\n",
      "Epoch 50/100\n",
      "1875/1875 [==============================] - 5s 3ms/step - loss: 2.3014 - accuracy: 0.1124\n",
      "Epoch 51/100\n",
      "1875/1875 [==============================] - 5s 3ms/step - loss: 2.3014 - accuracy: 0.1124\n",
      "Epoch 52/100\n",
      "1875/1875 [==============================] - 5s 3ms/step - loss: 2.3013 - accuracy: 0.1124\n",
      "Epoch 53/100\n",
      "1875/1875 [==============================] - 5s 3ms/step - loss: 2.3014 - accuracy: 0.1124\n",
      "Epoch 54/100\n",
      "1875/1875 [==============================] - 5s 3ms/step - loss: 2.3014 - accuracy: 0.1124\n",
      "Epoch 55/100\n",
      "1875/1875 [==============================] - 5s 3ms/step - loss: 2.3013 - accuracy: 0.1124\n",
      "Epoch 56/100\n",
      "1875/1875 [==============================] - 5s 3ms/step - loss: 2.3013 - accuracy: 0.1124\n",
      "Epoch 57/100\n",
      "1875/1875 [==============================] - 5s 3ms/step - loss: 2.3014 - accuracy: 0.1124\n",
      "Epoch 58/100\n",
      "1532/1875 [=======================>......] - ETA: 0s - loss: 2.3013 - accuracy: 0.1120"
     ]
    }
   ],
   "source": [
    "## Passing our input and output data to the neural network we have designed \n",
    "network.fit(train_images,train_labels,epochs = 100)"
   ]
  },
  {
   "cell_type": "code",
   "execution_count": 40,
   "id": "585dd09e-1daa-4385-84e9-a7f0ed8481ba",
   "metadata": {},
   "outputs": [
    {
     "name": "stdout",
     "output_type": "stream",
     "text": [
      "313/313 [==============================] - 0s 1ms/step - loss: 2.3011 - accuracy: 0.1135\n",
      "test accuracy: 0.11349999904632568\n"
     ]
    }
   ],
   "source": [
    "#evaluating our network against the data , since we had earlier mentioned metric as accurracy , the ouput will provide us with accuracy of our model\n",
    "\n",
    "test_loss ,test_acc = network.evaluate(test_images,test_labels)\n",
    "print(\"test accuracy:\",test_acc)"
   ]
  },
  {
   "cell_type": "code",
   "execution_count": null,
   "id": "9c4e0b7b-ea5e-4bc7-acbf-af93935d18e2",
   "metadata": {},
   "outputs": [],
   "source": []
  }
 ],
 "metadata": {
  "kernelspec": {
   "display_name": "Python [conda env:tf]",
   "language": "python",
   "name": "conda-env-tf-py"
  },
  "language_info": {
   "codemirror_mode": {
    "name": "ipython",
    "version": 3
   },
   "file_extension": ".py",
   "mimetype": "text/x-python",
   "name": "python",
   "nbconvert_exporter": "python",
   "pygments_lexer": "ipython3",
   "version": "3.10.9"
  }
 },
 "nbformat": 4,
 "nbformat_minor": 5
}
