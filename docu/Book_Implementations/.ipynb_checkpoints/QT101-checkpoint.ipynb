{
 "cells": [
  {
   "cell_type": "markdown",
   "id": "6b9e35cf",
   "metadata": {},
   "source": [
    "---\n",
    "Title: ---\n",
    "title: \"QT101 - Introductory lectures in Quantitative Trading\"\n",
    "abstract: \"This is the code source and implementation of QT101 by Hanguku Quant.\"\n",
    "\n",
    "execute: \n",
    "  warning: false\n",
    "  freeze: true\n",
    "  cache: true\n",
    "format:\n",
    "  html:\n",
    "    html-math-method: katex\n",
    "    code-block-bg: \"#E5E7E9\"\n",
    "    df-print: paged\n",
    "    code-overflow : wrap\n",
    "    code-copy : true\n",
    "\n",
    "\n",
    "---\n",
    "\n"
   ]
  },
  {
   "cell_type": "markdown",
   "id": "f1361be6",
   "metadata": {},
   "source": [
    "## Introduction\n",
    "\n",
    "#### Coding\n",
    "* Programming in Python\n",
    "* Some advanced Python\n",
    "\n",
    "\n",
    "#### Trading\n",
    "* Basics of Quant Trading\n",
    "* Risk Management\n",
    "\n",
    "#### Focus\n",
    "\n",
    "* Implement multiple trading strtegies \n",
    "* Combine different strategies\n",
    "* Focus on the programming and the mathematical aspect of things as opposed to the tech stack\n",
    "\n",
    "<u><b>Disclaimer</b></u> : The course was in Visual Code and multiple python files were created to make it more structured , since I am following along ,I have tried to implement everything in a single file. It should not be difficult to transform the code into more structured format akin to what it is in the course.\n",
    "\n",
    "\n"
   ]
  },
  {
   "cell_type": "markdown",
   "id": "04cbb3d0",
   "metadata": {},
   "source": [
    "## Content"
   ]
  },
  {
   "cell_type": "code",
   "execution_count": 12,
   "id": "071d0a26",
   "metadata": {},
   "outputs": [],
   "source": [
    "%config IPCompleter.greedy=True"
   ]
  },
  {
   "cell_type": "code",
   "execution_count": 13,
   "id": "536d3cba",
   "metadata": {},
   "outputs": [],
   "source": [
    "import pandas as pd\n",
    "import threading\n",
    "import requests\n",
    "import yfinance\n",
    "from bs4 import BeautifulSoup\n",
    "import pytz\n",
    "from datetime import datetime"
   ]
  },
  {
   "cell_type": "code",
   "execution_count": 17,
   "id": "d6acbb2a",
   "metadata": {},
   "outputs": [
    {
     "data": {
      "text/plain": [
       "['MMM',\n",
       " 'AOS',\n",
       " 'ABBV',\n",
       " 'ATVI',\n",
       " 'APD',\n",
       " 'ALGN',\n",
       " 'AMZN',\n",
       " 'AEE',\n",
       " 'AIG',\n",
       " 'AMT',\n",
       " 'AME',\n",
       " 'ANSS',\n",
       " 'AAPL',\n",
       " 'ANET',\n",
       " 'ATO',\n",
       " 'ADSK',\n",
       " 'BAC',\n",
       " 'BDX',\n",
       " 'BLK',\n",
       " 'BX',\n",
       " 'BA',\n",
       " 'CCL',\n",
       " 'CE',\n",
       " 'DOW',\n",
       " 'EXC',\n",
       " 'HUM',\n",
       " 'JPM',\n",
       " 'NTAP',\n",
       " 'RHI',\n",
       " 'SYF',\n",
       " 'SNPS',\n",
       " 'TPR',\n",
       " 'ULTA',\n",
       " 'UPS',\n",
       " 'WEC']"
      ]
     },
     "execution_count": 17,
     "metadata": {},
     "output_type": "execute_result"
    }
   ],
   "source": [
    "#Getting data\n",
    "def get_sp500_tickers():\n",
    "    res  = requests.get(\"https://en.wikipedia.org/wiki/List_of_S&P_500_companies\")\n",
    "    soup = BeautifulSoup(res.content,\"html\")\n",
    "    table = soup.find_all('table')[0]\n",
    "    df = pd.read_html(str(table))\n",
    "    tickers = list(df[0].Symbol)\n",
    "    return tickers\n",
    "tickers = \n",
    "#print(df[0].to_json(orient='records'))"
   ]
  },
  {
   "cell_type": "code",
   "execution_count": 11,
   "id": "1cedfcea",
   "metadata": {},
   "outputs": [],
   "source": [
    "tickers = get_sp500_tickers()\n",
    "\n",
    "\n",
    "#retrieving OHLCV with the yfinance API\n",
    "def get_history(ticker, period_start, period_end, granularity = '1d',tries = 0):\n",
    "    try:\n",
    "        df = yfinance.Ticker(ticker).history(\n",
    "            start = period_start,\n",
    "            end =period_end,\n",
    "            interval = granularity,\n",
    "            auto_adjust = True\n",
    "        ).reset_index()\n",
    "    except Exception as err:\n",
    "        if tries < 5:\n",
    "            return gethistory(ticker, period_start, period_end, granularity = '1d',tries +1)\n",
    "        return pd.DataFrame()\n",
    "    df =df.rename(columns = {\n",
    "        \"Date\":\"datetime\",\n",
    "        \"Open\":\"open\",\n",
    "        \"High\":\"high\",\n",
    "        \"Low\":\"low\",\n",
    "        \"Close\":\"close\",\n",
    "        \"Volume\":\"volume\"\n",
    "    })\n",
    "    if df.empty:\n",
    "        return pd.DataFrame()\n",
    "        \n",
    "    df[\"datetime\"] = df[\"datetime\"].dt.tz_convert('Asia/Kolkata')\n",
    "    df  = df.drop(columns = [\"Dividends\", \"Stock Splits\"])\n",
    "    df = df.set_index(\"datetime\",drop = True)\n",
    "    return df\n",
    "\n",
    "\n",
    "\n"
   ]
  },
  {
   "cell_type": "code",
   "execution_count": 22,
   "id": "f6d4be5b",
   "metadata": {},
   "outputs": [
    {
     "ename": "SyntaxError",
     "evalue": "expected 'except' or 'finally' block (utils.py, line 12)",
     "output_type": "error",
     "traceback": [
      "Traceback \u001b[0;36m(most recent call last)\u001b[0m:\n",
      "\u001b[0m  File \u001b[1;32m/opt/homebrew/lib/python3.10/site-packages/IPython/core/interactiveshell.py:3433\u001b[0m in \u001b[1;35mrun_code\u001b[0m\n    exec(code_obj, self.user_global_ns, self.user_ns)\u001b[0m\n",
      "\u001b[0m  Cell \u001b[1;32mIn[22], line 36\u001b[0m\n    tickers , ticker_dfs = get_ticker_dfs(start = period_start, end = period_end)\u001b[0m\n",
      "\u001b[0;36m  Cell \u001b[0;32mIn[22], line 19\u001b[0;36m in \u001b[0;35mget_ticker_dfs\u001b[0;36m\n\u001b[0;31m    from utils import load_pickle,save_pickle\u001b[0;36m\n",
      "\u001b[0;36m  File \u001b[0;32m~/Documents/GitHub/akrikan.github.io/docu/Book_Implementations/utils.py:12\u001b[0;36m\u001b[0m\n\u001b[0;31m    def save_pickle(path):\u001b[0m\n\u001b[0m                          ^\u001b[0m\n\u001b[0;31mSyntaxError\u001b[0m\u001b[0;31m:\u001b[0m expected 'except' or 'finally' block\n"
     ]
    }
   ],
   "source": [
    "\n",
    "def get_histories(tickers,period_start, period_end, granularity ='1d'):\n",
    "    dfs = [None]*len(tickers)\n",
    "    def _helper(i):\n",
    "        df = get_history(\n",
    "            tickers[i],\n",
    "            period_start[i],\n",
    "            period_end[i],\n",
    "            granularity = granularity\n",
    "        )\n",
    "        dfs[i]=df\n",
    "    threads = [threading.Thread(target = _helper,args = (i,))for i in range(len(tickers))] #Define scope of threading\n",
    "    [thread.start() for thread in threads]     #Intiates threading process\n",
    "    [thread.join()for thread in threads]       #Will wait for the last thread to complete and join  \n",
    "    tickers = [tickers[i] for i in range(len(tickers)) if not dfs[i].empty]\n",
    "    dfs = [df for df in dfs if not df.empty]\n",
    "    return tickers ,dfs\n",
    "                                         \n",
    "def get_ticker_dfs(start,end):\n",
    "    from utils import load_pickle,save_pickle\n",
    "    try:\n",
    "        tickers, tickers_dfs = load_pickle(\"dataset.ob\")\n",
    "    except Exception as err:\n",
    "        tickers = get_sp500_tickers()\n",
    "        tickers = get_sp500_tickers()\n",
    "        starts = [start]*len(tickers)\n",
    "        ends = [end]*len(tickers)\n",
    "        tickers , dfs  = get_histories(tickers,starts,ends,granularity = \"1d\")\n",
    "        ticker_dfs = {ticker:df for ticker,df in zip(tickers,dfs)}\n",
    "        save_pickle(\"dataset.obj\",(tickers,tickers_dfs))\n",
    "        \n",
    "    return tickers, ticker_dfs\n",
    "\n",
    "period_start = datetime(2010,1,1,tzinfo = pytz.utc)\n",
    "period_end = datetime.now(pytz.utc)\n",
    "\n",
    "tickers , ticker_dfs = get_ticker_dfs(start = period_start, end = period_end)\n",
    "\n",
    "\n",
    "print(ticker_dfs)\n"
   ]
  },
  {
   "cell_type": "code",
   "execution_count": 20,
   "id": "349c9ac0",
   "metadata": {},
   "outputs": [],
   "source": []
  },
  {
   "cell_type": "code",
   "execution_count": null,
   "id": "c1213a61",
   "metadata": {},
   "outputs": [],
   "source": []
  }
 ],
 "metadata": {
  "kernelspec": {
   "display_name": "Python 3 (ipykernel)",
   "language": "python",
   "name": "python3"
  },
  "language_info": {
   "codemirror_mode": {
    "name": "ipython",
    "version": 3
   },
   "file_extension": ".py",
   "mimetype": "text/x-python",
   "name": "python",
   "nbconvert_exporter": "python",
   "pygments_lexer": "ipython3",
   "version": "3.10.9"
  }
 },
 "nbformat": 4,
 "nbformat_minor": 5
}
