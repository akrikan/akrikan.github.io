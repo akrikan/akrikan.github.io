{
 "cells": [
  {
   "cell_type": "code",
   "execution_count": null,
   "id": "08b6c4cb",
   "metadata": {},
   "outputs": [],
   "source": [
    "#include iostream"
   ]
  },
  {
   "cell_type": "code",
   "execution_count": null,
   "id": "a0b9456f",
   "metadata": {},
   "outputs": [],
   "source": []
  }
 ],
 "metadata": {
  "kernelspec": {
   "display_name": "C++14",
   "language": "C++14",
   "name": "xcpp14"
  }
 },
 "nbformat": 4,
 "nbformat_minor": 5
}
